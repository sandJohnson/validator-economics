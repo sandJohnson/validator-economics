{
 "cells": [
  {
   "cell_type": "code",
   "execution_count": 4,
   "metadata": {},
   "outputs": [],
   "source": [
    "import numpy as np\n",
    "\n",
    "SLOTS_PER_EPOCH = 32\n",
    "\n",
    "def run_slashing_simulation(num_indexes, slashing_probability, epochs_till_stop):\n",
    "    \"\"\"\n",
    "    Run a simulation to calculate the number of indexes that get slashed.\n",
    "\n",
    "    Parameters:\n",
    "    num_indexes: int - The number of indexes in the simulation.\n",
    "    slashing_probability: float - The probability of a slot being slashed.\n",
    "    num_slots: int - The total number of slots available.\n",
    "\n",
    "    Returns:\n",
    "    the number of slashed indexes\n",
    "    \"\"\"\n",
    "    initial_slashing_count = simulate_initial_slashing_count(num_indexes)\n",
    "\n",
    "    slashed_index_count = 0 + initial_slashing_count\n",
    "    for epoch in range(epochs_till_stop):\n",
    "        # Assign each index to a slot\n",
    "        assigned_slots = np.random.choice(range(SLOTS_PER_EPOCH), num_indexes - slashed_index_count)\n",
    "        # Run a boolean lottery for each slot\n",
    "        is_slot_slashed = np.random.rand(SLOTS_PER_EPOCH) < slashing_probability\n",
    "        # Count the total number of indexes in slots that won the lottery (were slashed)\n",
    "        slashed_indexes = assigned_slots[is_slot_slashed[assigned_slots]]\n",
    "        slashed_index_count += len(slashed_indexes)\n",
    "    return slashed_index_count\n",
    "\n",
    "def simulate_initial_slashing_count(num_indexes):\n",
    "    assigned_slots = np.random.choice(range(SLOTS_PER_EPOCH), num_indexes)\n",
    "    for slot in range(SLOTS_PER_EPOCH):\n",
    "        count = np.sum(assigned_slots == slot)\n",
    "        if count > 0:\n",
    "            return count\n",
    "\n",
    "\n",
    "def run_slashing_simulations(num_indexes, slashing_probability, epochs_till_stop, num_simulations):\n",
    "    results = []\n",
    "    for _ in range(num_simulations):\n",
    "        results.append(run_slashing_simulation(num_indexes, slashing_probability, epochs_till_stop))\n",
    "    return results\n"
   ]
  }
 ],
 "metadata": {
  "kernelspec": {
   "display_name": "Python 3",
   "language": "python",
   "name": "python3"
  },
  "language_info": {
   "codemirror_mode": {
    "name": "ipython",
    "version": 3
   },
   "file_extension": ".py",
   "mimetype": "text/x-python",
   "name": "python",
   "nbconvert_exporter": "python",
   "pygments_lexer": "ipython3",
   "version": "3.11.6"
  }
 },
 "nbformat": 4,
 "nbformat_minor": 2
}
